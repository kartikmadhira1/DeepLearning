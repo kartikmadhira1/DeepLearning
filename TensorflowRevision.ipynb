{
 "cells": [
  {
   "cell_type": "code",
   "execution_count": 3,
   "metadata": {},
   "outputs": [
    {
     "name": "stderr",
     "output_type": "stream",
     "text": [
      "Using TensorFlow backend.\n"
     ]
    }
   ],
   "source": [
    "import matplotlib.pyplot as plt\n",
    "import tensorflow as tf\n",
    "import numpy as np\n",
    "from sklearn.metrics import confusion_matrix\n",
    "import time\n",
    "from datetime import timedelta\n",
    "import math\n",
    "import keras\n",
    "import random"
   ]
  },
  {
   "cell_type": "code",
   "execution_count": 5,
   "metadata": {},
   "outputs": [],
   "source": [
    "#getting the size of the convolution layer sizes\n",
    "\n",
    "##convolution layer 1\n",
    "filterSize1=5\n",
    "numFilters1=16\n",
    "\n",
    "##convolution layer 2\n",
    "filterSize2= 5\n",
    "numFilters2=36\n",
    "\n",
    "##the final fully connected layer size\n",
    "fullConnect=128"
   ]
  },
  {
   "cell_type": "code",
   "execution_count": 6,
   "metadata": {},
   "outputs": [],
   "source": [
    "labelDict={0:\"top\",1:\"Trouser\",2:\"Pullover\",3:\"Dress\",4:\"Coat\",5:\"Sandal\",6:\"Shirt\",7:\"Sneaker\",8:\"Bag\",9:\"Ankle boot\"}\n"
   ]
  },
  {
   "cell_type": "code",
   "execution_count": 7,
   "metadata": {},
   "outputs": [
    {
     "name": "stdout",
     "output_type": "stream",
     "text": [
      "No of training examples: \t\t60000\n",
      "No of test eamples: \t\t\t10000\n"
     ]
    }
   ],
   "source": [
    "print(\"No of training examples: \\t\\t{}\".format(len(trainImages)))\n",
    "print(\"No of test eamples: \\t\\t\\t{}\".format(len(testImages)))"
   ]
  },
  {
   "cell_type": "code",
   "execution_count": 22,
   "metadata": {},
   "outputs": [
    {
     "data": {
      "text/plain": [
       "<matplotlib.image.AxesImage at 0x7fcd023e3d90>"
      ]
     },
     "execution_count": 22,
     "metadata": {},
     "output_type": "execute_result"
    },
    {
     "data": {
      "image/png": "[encoded data removed]",
      "text/plain": [
       "<Figure size 432x288 with 1 Axes>"
      ]
     },
     "metadata": {
      "needs_background": "light"
     },
     "output_type": "display_data"
    }
   ],
   "source": [
    "#parameters to pass through different layers\n",
    "imgSize=trainImages[0].shape[0]\n",
    "imgShape=trainImages[0].shape\n",
    "plt.imshow(trainImages[1],cmap='binary')"
   ]
  },
  {
   "cell_type": "code",
   "execution_count": 17,
   "metadata": {},
   "outputs": [],
   "source": [
    "def plotImages(trainImages,trainLabels):  \n",
    "    for i in range(1,10):\n",
    "        rand=random.randrange(0,60000)\n",
    "        plt.subplot(3,3,i)\n",
    "        plt.subplots_adjust(hspace=0.7,wspace=0.3)\n",
    "        plt.imshow(trainImages[rand],cmap=\"binary\")\n",
    "        plt.xlabel(labelDict[trainLabels[rand]])"
   ]
  },
  {
   "cell_type": "code",
   "execution_count": 18,
   "metadata": {},
   "outputs": [
    {
     "data": {
      "image/png": "[encoded data removed]",
      "text/plain": [
       "<Figure size 432x288 with 9 Axes>"
      ]
     },
     "metadata": {
      "needs_background": "light"
     },
     "output_type": "display_data"
    }
   ],
   "source": [
    "plotImages(trainImages,trainLabels)"
   ]
  },
  {
   "cell_type": "code",
   "execution_count": 24,
   "metadata": {},
   "outputs": [],
   "source": [
    "#make a variable with some intial random values of the particular shape\n",
    "def makeWeights(shape):\n",
    "    return tf.Variable(tf.truncated_normal(shape,stddev=0.05))"
   ]
  },
  {
   "cell_type": "code",
   "execution_count": 27,
   "metadata": {},
   "outputs": [
    {
     "data": {
      "text/plain": [
       "<tf.Tensor 'strided_slice:0' shape=() dtype=float32>"
      ]
     },
     "execution_count": 27,
     "metadata": {},
     "output_type": "execute_result"
    }
   ],
   "source": [
    "a=tf.constant(0.05,shape=[5])\n"
   ]
  },
  {
   "cell_type": "code",
   "execution_count": 28,
   "metadata": {},
   "outputs": [],
   "source": [
    "def newBiases(length):\n",
    "    return tf.Variable(tf.constant(0.05,shape=[length]))"
   ]
  },
  {
   "cell_type": "code",
   "execution_count": 30,
   "metadata": {},
   "outputs": [],
   "source": [
    "def makeConvLayer(inputLayer,\n",
    "                  filterSize,\n",
    "                  inputChannels,\n",
    "                  numFilters,\n",
    "                  maxPooling=True):\n",
    "    \n",
    "    #shape of a filter is determined in the following way\n",
    "    ##shape=[no. of slides at a time of the filter,\n",
    "    ##       dimensionality of the filter,\n",
    "    ##        num of channels of filter,\n",
    "    ##         number of filters]\n",
    "    \n",
    "    #in general a 4D tensor has the following format\n",
    "    ##tensor=[Image number,\n",
    "    ##            Y axis of each image,\n",
    "    ##            X axis of the image,\n",
    "    ##            Channels of each image]\n",
    "    \n",
    "    #NOTE: this is different from the way the shape of the filter is setup\n",
    "    \n",
    "    #strides is in the format of the tensor \n",
    "    ##strides=[Image Number=1 (because you stride over the same image)\n",
    "    ##            steps in Y axis ,\n",
    "    ##            steps in X axis,\n",
    "    ##            Channels of each image=1]\n",
    "    \n",
    "    \n",
    "    \n",
    "    shape=[filterSize,filterSize,inputChannels,numFilters]\n",
    "    \n",
    "    #now make a filter with the random weights\n",
    "    weights=makeWeights(shape=shape)\n",
    "    \n",
    "    #make biases which is a 1D vector\n",
    "    biases=newBiases(length=numFilters)\n",
    "    \n",
    "    layer=tf.nn.conv2d(input=input,\n",
    "                      filter=weights,\n",
    "                      strides=[1,1,1,1],\n",
    "                      padding='SAME')\n",
    "    \n",
    "    #addding the biases to the layers\n",
    "    layer+=biases\n",
    "    \n",
    "    if(maxPooling):\n",
    "        layer=tf.nn.max_pool(value=layer,\n",
    "                            ksize=[1,2,2,1],\n",
    "                            strides=[1,2,2,1],\n",
    "                            padding='SAME')\n",
    "        \n",
    "    #adding the nonlinearity with ReLU\n",
    "    layer=tf.nn.relu(layer)\n",
    "    \n",
    "    return layer"
   ]
  },
  {
   "cell_type": "code",
   "execution_count": 31,
   "metadata": {},
   "outputs": [],
   "source": [
    "#the output of a conv layer is 4-D while a fully connected layer takes in only\n",
    "#2-D tensor\n",
    "\n",
    "def flattenLayer(layer):\n",
    "    layerShape=layer.get_shape()\n",
    "    #currently the layerShape is set to,\n",
    "    ## layerShape=[numImages,imgXsize,imgYsize,no. of channels]\n",
    "    ## this is to be reshaped in to the format \n",
    "    ## layerShape=[numImages,imgXsize*imgYsize*no.of channels]\n",
    "    numFeatures=layerShape[1:4].num_elements()\n",
    "    \n",
    "    flatLayer=tf.reshape(layer,[-1,numFeatures])\n",
    "    \n",
    "    return flatLayer,numFeatures\n",
    "    "
   ]
  },
  {
   "cell_type": "code",
   "execution_count": null,
   "metadata": {},
   "outputs": [],
   "source": [
    "# the input is a 2D \n",
    "\n",
    "def fullConnected(input,\n",
    "                 numInputs,    #previous layer shape\n",
    "                 numOutputs,   #req. outptus\n",
    "                 useRelu=True):\n",
    "    #dont get confused here, if there are n inouts and m outputs\n",
    "    #you need to have n*m weights and that is what this thing is doing\n",
    "    weights=makeWeights(shape=[numInputs,numOutputs])\n",
    "    biases=newBiases(length=numOutputs)\n",
    "    \n",
    "    layer=tf.matmul(input,weights)+biases\n",
    "    \n",
    "    if useRelu:\n",
    "        layer=tf.nn.relu(layer)\n",
    "    return layer \n",
    "    "
   ]
  },
  {
   "cell_type": "code",
   "execution_count": 32,
   "metadata": {},
   "outputs": [],
   "source": [
    "#getting to work with the tensorflow placeholders and this will create inputs\n",
    "#None is because of the fact that it can take any arbitrary values.\n",
    "inputX=tf.placeholder(tf.float32,shape=[None,imgSize,imgSize,1])\n",
    "outputTrue=tf.argmax(tf.placeholder(tf.float32,shape=[None,10]),axis=1)"
   ]
  },
  {
   "cell_type": "code",
   "execution_count": 36,
   "metadata": {},
   "outputs": [],
   "source": []
  },
  {
   "cell_type": "code",
   "execution_count": null,
   "metadata": {},
   "outputs": [],
   "source": []
  }
 ],
 "metadata": {
  "kernelspec": {
   "display_name": "Python 2",
   "language": "python",
   "name": "python2"
  },
  "language_info": {
   "codemirror_mode": {
    "name": "ipython",
    "version": 2
   },
   "file_extension": ".py",
   "mimetype": "text/x-python",
   "name": "python",
   "nbconvert_exporter": "python",
   "pygments_lexer": "ipython2",
   "version": "2.7.15"
  }
 },
 "nbformat": 4,
 "nbformat_minor": 2
}
