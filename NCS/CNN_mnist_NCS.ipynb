{
 "cells": [
  {
   "cell_type": "code",
   "execution_count": 1,
   "metadata": {},
   "outputs": [],
   "source": [
    "from __future__ import division, print_function, absolute_import\n",
    "\n",
    "import tensorflow as tf\n",
    "import matplotlib.pyplot as plt\n",
    "import numpy as np"
   ]
  },
  {
   "cell_type": "code",
   "execution_count": 2,
   "metadata": {},
   "outputs": [
    {
     "name": "stdout",
     "output_type": "stream",
     "text": [
      "WARNING:tensorflow:From <ipython-input-2-b3c66eb4a527>:3: read_data_sets (from tensorflow.contrib.learn.python.learn.datasets.mnist) is deprecated and will be removed in a future version.\n",
      "Instructions for updating:\n",
      "Please use alternatives such as official/mnist/dataset.py from tensorflow/models.\n",
      "WARNING:tensorflow:From /usr/local/lib/python2.7/dist-packages/tensorflow/contrib/learn/python/learn/datasets/mnist.py:260: maybe_download (from tensorflow.contrib.learn.python.learn.datasets.base) is deprecated and will be removed in a future version.\n",
      "Instructions for updating:\n",
      "Please write your own downloading logic.\n",
      "WARNING:tensorflow:From /usr/local/lib/python2.7/dist-packages/tensorflow/contrib/learn/python/learn/datasets/base.py:252: wrapped_fn (from tensorflow.contrib.learn.python.learn.datasets.base) is deprecated and will be removed in a future version.\n",
      "Instructions for updating:\n",
      "Please use urllib or similar directly.\n",
      "Successfully downloaded train-images-idx3-ubyte.gz 9912422 bytes.\n",
      "WARNING:tensorflow:From /usr/local/lib/python2.7/dist-packages/tensorflow/contrib/learn/python/learn/datasets/mnist.py:262: extract_images (from tensorflow.contrib.learn.python.learn.datasets.mnist) is deprecated and will be removed in a future version.\n",
      "Instructions for updating:\n",
      "Please use tf.data to implement this functionality.\n",
      "Extracting /tmp/data/train-images-idx3-ubyte.gz\n",
      "Successfully downloaded train-labels-idx1-ubyte.gz 28881 bytes.\n",
      "WARNING:tensorflow:From /usr/local/lib/python2.7/dist-packages/tensorflow/contrib/learn/python/learn/datasets/mnist.py:267: extract_labels (from tensorflow.contrib.learn.python.learn.datasets.mnist) is deprecated and will be removed in a future version.\n",
      "Instructions for updating:\n",
      "Please use tf.data to implement this functionality.\n",
      "Extracting /tmp/data/train-labels-idx1-ubyte.gz\n",
      "Successfully downloaded t10k-images-idx3-ubyte.gz 1648877 bytes.\n",
      "Extracting /tmp/data/t10k-images-idx3-ubyte.gz\n",
      "Successfully downloaded t10k-labels-idx1-ubyte.gz 4542 bytes.\n",
      "Extracting /tmp/data/t10k-labels-idx1-ubyte.gz\n",
      "WARNING:tensorflow:From /usr/local/lib/python2.7/dist-packages/tensorflow/contrib/learn/python/learn/datasets/mnist.py:290: __init__ (from tensorflow.contrib.learn.python.learn.datasets.mnist) is deprecated and will be removed in a future version.\n",
      "Instructions for updating:\n",
      "Please use alternatives such as official/mnist/dataset.py from tensorflow/models.\n"
     ]
    }
   ],
   "source": [
    "# Import MNIST data\n",
    "from tensorflow.examples.tutorials.mnist import input_data\n",
    "mnist = input_data.read_data_sets(\"/tmp/data/\", one_hot=False)\n"
   ]
  },
  {
   "cell_type": "code",
   "execution_count": 3,
   "metadata": {},
   "outputs": [
    {
     "data": {
      "text/plain": [
       "array([[0., 0., 0., ..., 0., 0., 0.],\n",
       "       [0., 0., 0., ..., 0., 0., 0.],\n",
       "       [0., 0., 0., ..., 0., 0., 0.],\n",
       "       ...,\n",
       "       [0., 0., 0., ..., 0., 0., 0.],\n",
       "       [0., 0., 0., ..., 0., 0., 0.],\n",
       "       [0., 0., 0., ..., 0., 0., 0.]], dtype=float32)"
      ]
     },
     "execution_count": 3,
     "metadata": {},
     "output_type": "execute_result"
    }
   ],
   "source": [
    "\n",
    "mnist.train.images"
   ]
  },
  {
   "cell_type": "code",
   "execution_count": 4,
   "metadata": {},
   "outputs": [],
   "source": [
    "\n",
    "\"\"\"\n",
    "definitions:\n",
    "d\n",
    "Training Parameter \n",
    "\n",
    "1. Learning Rate - The rate at which the Loss function gradient should descent\n",
    "2. Epoch - One forward and one backward pass of ALL training examples\n",
    "3. Batch size - The number of training examples to take in\n",
    "    one forward and backward pass or one BATCH' of data.\n",
    "4. Num of steps - lol no idea\n",
    "\n",
    "Network Parameters\n",
    "\n",
    "1. Input - The number of neurons in the first layer on in short the\n",
    "    unwrapped (2D to 1D) of an image = 28*28= 784 here\n",
    "2. Input classes - The number of classes the classification needs\n",
    "    to made for\n",
    "3. Dropout - For the model to NOT overfit the data, we tend to DROP some\n",
    "of the neurons and run the passes. It is the fraction to drop \n",
    "\n",
    "\n",
    "\"\"\"\n",
    "#training parameters\n",
    "learning_rate=0.01\n",
    "num_steps=2000\n",
    "batch_size=128\n",
    "\n",
    "#network params\n",
    "num_input=784\n",
    "num_classes=10\n",
    "dropout=0.25\n",
    "\n"
   ]
  },
  {
   "cell_type": "code",
   "execution_count": 5,
   "metadata": {},
   "outputs": [],
   "source": [
    "\n",
    "#create the skeleton of the neural net\n",
    "def conv_net(x_dict,n_classes,dropout,reuse,is_training):\n",
    "    #dont know of this step\n",
    "    with tf.variable_scope('ConvNet',reuse=reuse):\n",
    "        \"\"\"\n",
    "        this whole function is going to be used by a model_fn\n",
    "        which in turn would be passed to the tf class tf.estimator.Estimator\n",
    "        see more at \n",
    "        https://www.tensorflow.org/api_docs/python/tf/estimator/Estimator\n",
    "        \"\"\"\n",
    "        #the input is going to be a dictionary\n",
    "        x=x_dict['images']\n",
    "        #first layer is Conv so reshape back to 2D form and get conv layer\n",
    "        #image=[batch size,height,width,channel]\n",
    "        x=tf.reshape(x,shape=[-1,28,28,1])\n",
    "        x = tf.identity(x, name='new_node')\n",
    "\n",
    "        #first layer is a 2D conv layer with 32 filters with a size of 5\n",
    "        #for a better understanding on what the number of filters mean: \n",
    "        #https://stackoverflow.com/questions/36243536/what-is-the-number-of-filter-in-cnn\n",
    "        conv1=tf.layers.conv2d(x,32,5,activation=tf.nn.relu)\n",
    "        #max pooling this 2D layer on down sampling(to get the max value only)\n",
    "        #the pooling has 2 step size in the stride and 2 kernel size\n",
    "        conv1=tf.layers.max_pooling2d(conv1,2,2)\n",
    "        \n",
    "        #same way we add another conv layer with 64 filters each of kernel 3\n",
    "        conv2=tf.layers.conv2d(conv1,64,3,activation=tf.nn.relu)\n",
    "        conv2=tf.layers.max_pooling2d(conv2,2,2)\n",
    "        \n",
    "        #flatten data now to get eventually get 10 classes of output\n",
    "        fc1=tf.contrib.layers.flatten(conv2)\n",
    "        \n",
    "        #first connected layer consisting of 1024 neurons\n",
    "        fc1=tf.layers.dense(fc1,1024)\n",
    "        #apply dropout when training(is_training is the bool)\n",
    "        fc1=tf.layers.dropout(fc1,rate=dropout,training=is_training)\n",
    "        \n",
    "        #finally output just 10 classes required with a connected layer\n",
    "        out=tf.layers.dense(fc1,n_classes,name='final')\n",
    "        out = tf.identity(out, name='last_node')\n",
    "    return out        "
   ]
  },
  {
   "cell_type": "code",
   "execution_count": 6,
   "metadata": {},
   "outputs": [],
   "source": [
    "#initialize a model function that is based on the template given at\n",
    "#https://www.tensorflow.org/api_docs/python/tf/estimator/Estimator\n",
    "\n",
    "def model_fn(features,labels,mode):\n",
    "    \n",
    "    #building the NN, with two different graphs since the \n",
    "    #dropouts behave differently with training and predictions\n",
    "    mod_train=conv_net(features,num_classes,dropout,reuse=False,is_training=True)\n",
    "    mod_test=conv_net(features,num_classes,dropout,reuse=True,is_training=False)\n",
    "    \n",
    "    #softmax to convert prob between 0 to 1.\n",
    "    pred_classes=tf.argmax(mod_test,axis=1)\n",
    "    pred=tf.nn.softmax(mod_test)\n",
    "    \n",
    "     # If prediction mode, early return\n",
    "    if mode == tf.estimator.ModeKeys.PREDICT:\n",
    "        return tf.estimator.EstimatorSpec(mode, predictions=pred_classes) \n",
    "    \n",
    "    #loss and optimizer\n",
    "    \n",
    "    loss_fn=tf.reduce_mean(tf.nn.sparse_softmax_cross_entropy_with_logits(\n",
    "    logits=mod_train,labels=tf.cast(labels,dtype=tf.int32)))\n",
    "    optimizer=tf.train.AdamOptimizer(learning_rate=learning_rate)\n",
    "    train_op=optimizer.minimize(loss_fn,global_step=tf.train.get_global_step())\n",
    "    \n",
    "    #get accuracy\n",
    "    accuracy=tf.metrics.accuracy(labels=labels,predictions=pred_classes)\n",
    "    \n",
    "    #TF estimator has to return an EstimatorSpec object (same in the case if\n",
    "    #mode =PREDICT)\n",
    "    \n",
    "    estimation_ret=tf.estimator.EstimatorSpec(\n",
    "        mode=mode,\n",
    "        predictions=pred_classes,\n",
    "        loss=loss_fn,\n",
    "        train_op=train_op,\n",
    "        eval_metric_ops={'accuracy':accuracy})\n",
    "    \n",
    "    return estimation_ret"
   ]
  },
  {
   "cell_type": "code",
   "execution_count": 7,
   "metadata": {},
   "outputs": [
    {
     "name": "stdout",
     "output_type": "stream",
     "text": [
      "INFO:tensorflow:Using default config.\n",
      "WARNING:tensorflow:Using temporary folder as model directory: /tmp/tmpTHmh4s\n",
      "INFO:tensorflow:Using config: {'_save_checkpoints_secs': 600, '_session_config': None, '_keep_checkpoint_max': 5, '_task_type': 'worker', '_global_id_in_cluster': 0, '_is_chief': True, '_cluster_spec': <tensorflow.python.training.server_lib.ClusterSpec object at 0x7f0faf318950>, '_evaluation_master': '', '_save_checkpoints_steps': None, '_keep_checkpoint_every_n_hours': 10000, '_service': None, '_num_ps_replicas': 0, '_tf_random_seed': None, '_master': '', '_device_fn': None, '_num_worker_replicas': 1, '_task_id': 0, '_log_step_count_steps': 100, '_model_dir': '/tmp/tmpTHmh4s', '_train_distribute': None, '_save_summary_steps': 100}\n"
     ]
    }
   ],
   "source": [
    "model=tf.estimator.Estimator(model_fn)"
   ]
  },
  {
   "cell_type": "code",
   "execution_count": 8,
   "metadata": {},
   "outputs": [
    {
     "name": "stdout",
     "output_type": "stream",
     "text": [
      "INFO:tensorflow:Calling model_fn.\n",
      "INFO:tensorflow:Done calling model_fn.\n",
      "INFO:tensorflow:Create CheckpointSaverHook.\n",
      "INFO:tensorflow:Graph was finalized.\n",
      "INFO:tensorflow:Running local_init_op.\n",
      "INFO:tensorflow:Done running local_init_op.\n",
      "INFO:tensorflow:Saving checkpoints for 0 into /tmp/tmpTHmh4s/model.ckpt.\n",
      "INFO:tensorflow:loss = 2.306107, step = 0\n",
      "INFO:tensorflow:global_step/sec: 207.38\n",
      "INFO:tensorflow:loss = 0.23269051, step = 100 (0.485 sec)\n",
      "INFO:tensorflow:global_step/sec: 204.107\n",
      "INFO:tensorflow:loss = 0.14222658, step = 200 (0.490 sec)\n",
      "INFO:tensorflow:global_step/sec: 205.925\n",
      "INFO:tensorflow:loss = 0.09132413, step = 300 (0.486 sec)\n",
      "INFO:tensorflow:global_step/sec: 224.633\n",
      "INFO:tensorflow:loss = 0.17017175, step = 400 (0.445 sec)\n",
      "INFO:tensorflow:global_step/sec: 232.92\n",
      "INFO:tensorflow:loss = 0.062012345, step = 500 (0.429 sec)\n",
      "INFO:tensorflow:global_step/sec: 214.249\n",
      "INFO:tensorflow:loss = 0.21434395, step = 600 (0.468 sec)\n",
      "INFO:tensorflow:global_step/sec: 216.27\n",
      "INFO:tensorflow:loss = 0.15311186, step = 700 (0.463 sec)\n",
      "INFO:tensorflow:global_step/sec: 216.34\n",
      "INFO:tensorflow:loss = 0.08969273, step = 800 (0.461 sec)\n",
      "INFO:tensorflow:global_step/sec: 218.531\n",
      "INFO:tensorflow:loss = 0.15598466, step = 900 (0.459 sec)\n",
      "INFO:tensorflow:global_step/sec: 237.583\n",
      "INFO:tensorflow:loss = 0.18208776, step = 1000 (0.419 sec)\n",
      "INFO:tensorflow:global_step/sec: 210.945\n",
      "INFO:tensorflow:loss = 0.11457265, step = 1100 (0.476 sec)\n",
      "INFO:tensorflow:global_step/sec: 216.907\n",
      "INFO:tensorflow:loss = 0.20106086, step = 1200 (0.460 sec)\n",
      "INFO:tensorflow:global_step/sec: 207.244\n",
      "INFO:tensorflow:loss = 0.038523603, step = 1300 (0.481 sec)\n",
      "INFO:tensorflow:global_step/sec: 222.428\n",
      "INFO:tensorflow:loss = 0.14116171, step = 1400 (0.451 sec)\n",
      "INFO:tensorflow:global_step/sec: 207.368\n",
      "INFO:tensorflow:loss = 0.19896095, step = 1500 (0.482 sec)\n",
      "INFO:tensorflow:global_step/sec: 215.053\n",
      "INFO:tensorflow:loss = 0.11193263, step = 1600 (0.465 sec)\n",
      "INFO:tensorflow:global_step/sec: 203.612\n",
      "INFO:tensorflow:loss = 0.09299424, step = 1700 (0.490 sec)\n",
      "INFO:tensorflow:global_step/sec: 221.948\n",
      "INFO:tensorflow:loss = 0.1058194, step = 1800 (0.451 sec)\n",
      "INFO:tensorflow:global_step/sec: 201.231\n",
      "INFO:tensorflow:loss = 0.10314852, step = 1900 (0.497 sec)\n",
      "INFO:tensorflow:Saving checkpoints for 2000 into /tmp/tmpTHmh4s/model.ckpt.\n",
      "INFO:tensorflow:Loss for final step: 0.42059025.\n"
     ]
    },
    {
     "data": {
      "text/plain": [
       "<tensorflow.python.estimator.estimator.Estimator at 0x7f0faf318bd0>"
      ]
     },
     "execution_count": 8,
     "metadata": {},
     "output_type": "execute_result"
    }
   ],
   "source": [
    "input_fn=tf.estimator.inputs.numpy_input_fn(x={'images': mnist.train.images},y=mnist.train.labels,\n",
    "                                           batch_size=batch_size,num_epochs=None,shuffle=True)\n",
    "#start training the model\n",
    "model.train(input_fn,steps=num_steps)"
   ]
  },
  {
   "cell_type": "code",
   "execution_count": 9,
   "metadata": {},
   "outputs": [
    {
     "name": "stdout",
     "output_type": "stream",
     "text": [
      "INFO:tensorflow:Calling model_fn.\n",
      "INFO:tensorflow:Done calling model_fn.\n",
      "INFO:tensorflow:Graph was finalized.\n",
      "INFO:tensorflow:Restoring parameters from /tmp/tmpTHmh4s/model.ckpt-2000\n",
      "INFO:tensorflow:Running local_init_op.\n",
      "INFO:tensorflow:Done running local_init_op.\n"
     ]
    },
    {
     "data": {
      "image/png": "[encoded data removed]",
      "text/plain": [
       "<Figure size 432x288 with 1 Axes>"
      ]
     },
     "metadata": {
      "needs_background": "light"
     },
     "output_type": "display_data"
    },
    {
     "name": "stdout",
     "output_type": "stream",
     "text": [
      "3\n"
     ]
    },
    {
     "data": {
      "image/png": "[encoded data removed]",
      "text/plain": [
       "<Figure size 432x288 with 1 Axes>"
      ]
     },
     "metadata": {
      "needs_background": "light"
     },
     "output_type": "display_data"
    },
    {
     "name": "stdout",
     "output_type": "stream",
     "text": [
      "8\n"
     ]
    },
    {
     "data": {
      "image/png": "[encoded data removed]",
      "text/plain": [
       "<Figure size 432x288 with 1 Axes>"
      ]
     },
     "metadata": {
      "needs_background": "light"
     },
     "output_type": "display_data"
    },
    {
     "name": "stdout",
     "output_type": "stream",
     "text": [
      "1\n"
     ]
    },
    {
     "data": {
      "image/png": "[encoded data removed]",
      "text/plain": [
       "<Figure size 432x288 with 1 Axes>"
      ]
     },
     "metadata": {
      "needs_background": "light"
     },
     "output_type": "display_data"
    },
    {
     "name": "stdout",
     "output_type": "stream",
     "text": [
      "0\n"
     ]
    },
    {
     "data": {
      "image/png": "[encoded data removed]",
      "text/plain": [
       "<Figure size 432x288 with 1 Axes>"
      ]
     },
     "metadata": {
      "needs_background": "light"
     },
     "output_type": "display_data"
    },
    {
     "name": "stdout",
     "output_type": "stream",
     "text": [
      "5\n"
     ]
    },
    {
     "data": {
      "image/png": "[encoded data removed]",
      "text/plain": [
       "<Figure size 432x288 with 1 Axes>"
      ]
     },
     "metadata": {
      "needs_background": "light"
     },
     "output_type": "display_data"
    },
    {
     "name": "stdout",
     "output_type": "stream",
     "text": [
      "1\n"
     ]
    }
   ],
   "source": [
    "#prediction\n",
    "test_images=mnist.test.images[343:353]\n",
    "\n",
    "input_fn=tf.estimator.inputs.numpy_input_fn(\n",
    "    x={'images':test_images},shuffle=False)\n",
    "\n",
    "predictions=list(model.predict(input_fn))\n",
    "\n",
    "for i in range(6):\n",
    "    plt.imshow(np.reshape(test_images[i],[28,28]),cmap='gray')\n",
    "    plt.show()\n",
    "    print(predictions[i])"
   ]
  },
  {
   "cell_type": "code",
   "execution_count": 12,
   "metadata": {},
   "outputs": [
    {
     "ename": "AttributeError",
     "evalue": "'Estimator' object has no attribute 'model'",
     "output_type": "error",
     "traceback": [
      "\u001b[0;31m---------------------------------------------------------------------------\u001b[0m",
      "\u001b[0;31mAttributeError\u001b[0m                            Traceback (most recent call last)",
      "\u001b[0;32m<ipython-input-12-1fbbcc2a3374>\u001b[0m in \u001b[0;36m<module>\u001b[0;34m()\u001b[0m\n\u001b[1;32m      1\u001b[0m \u001b[0;32mwith\u001b[0m \u001b[0mopen\u001b[0m\u001b[0;34m(\u001b[0m\u001b[0;34m\"model.json\"\u001b[0m\u001b[0;34m,\u001b[0m \u001b[0;34m\"w\"\u001b[0m\u001b[0;34m)\u001b[0m \u001b[0;32mas\u001b[0m \u001b[0mfile\u001b[0m\u001b[0;34m:\u001b[0m\u001b[0;34m\u001b[0m\u001b[0m\n\u001b[0;32m----> 2\u001b[0;31m     \u001b[0mfile\u001b[0m\u001b[0;34m.\u001b[0m\u001b[0mwrite\u001b[0m\u001b[0;34m(\u001b[0m\u001b[0mmodel\u001b[0m\u001b[0;34m.\u001b[0m\u001b[0mmodel\u001b[0m\u001b[0;34m.\u001b[0m\u001b[0mto_json\u001b[0m\u001b[0;34m(\u001b[0m\u001b[0;34m)\u001b[0m\u001b[0;34m)\u001b[0m\u001b[0;34m\u001b[0m\u001b[0m\n\u001b[0m\u001b[1;32m      3\u001b[0m \u001b[0mmodel\u001b[0m\u001b[0;34m.\u001b[0m\u001b[0msave_weights\u001b[0m\u001b[0;34m(\u001b[0m\u001b[0;34m\"weights.h5\"\u001b[0m\u001b[0;34m)\u001b[0m\u001b[0;34m\u001b[0m\u001b[0m\n\u001b[1;32m      4\u001b[0m \u001b[0mmodel\u001b[0m\u001b[0;34m.\u001b[0m\u001b[0msave\u001b[0m\u001b[0;34m(\u001b[0m\u001b[0;34m'model.h5'\u001b[0m\u001b[0;34m)\u001b[0m\u001b[0;34m\u001b[0m\u001b[0m\n",
      "\u001b[0;31mAttributeError\u001b[0m: 'Estimator' object has no attribute 'model'"
     ]
    }
   ],
   "source": [
    "with open(\"model.json\", \"w\") as file:\n",
    "    file.write(model.model.to_json())\n",
    "model.save_weights(\"weights.h5\")\n",
    "model.save('model.h5')\n"
   ]
  },
  {
   "cell_type": "code",
   "execution_count": null,
   "metadata": {},
   "outputs": [],
   "source": []
  }
 ],
 "metadata": {
  "kernelspec": {
   "display_name": "Python 2",
   "language": "python",
   "name": "python2"
  },
  "language_info": {
   "codemirror_mode": {
    "name": "ipython",
    "version": 2
   },
   "file_extension": ".py",
   "mimetype": "text/x-python",
   "name": "python",
   "nbconvert_exporter": "python",
   "pygments_lexer": "ipython2",
   "version": "2.7.12"
  }
 },
 "nbformat": 4,
 "nbformat_minor": 2
}
